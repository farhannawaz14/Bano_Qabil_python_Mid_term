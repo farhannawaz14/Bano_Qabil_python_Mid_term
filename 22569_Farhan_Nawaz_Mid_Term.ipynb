{
 "cells": [
  {
   "cell_type": "markdown",
   "id": "9b056198-aa2b-4661-b37c-88f37026e7fe",
   "metadata": {},
   "source": [
    "First Question"
   ]
  },
  {
   "cell_type": "code",
   "execution_count": 5,
   "id": "308c56df-6d55-4619-b918-0470ae402c80",
   "metadata": {},
   "outputs": [
    {
     "name": "stdin",
     "output_type": "stream",
     "text": [
      "Enter the first number for addition 6\n",
      "Enter the secound Number addittion 5\n"
     ]
    },
    {
     "name": "stdout",
     "output_type": "stream",
     "text": [
      "Sum 11.0\n"
     ]
    }
   ],
   "source": [
    "first_num = float(input(\"Enter the first number for addition\"))\n",
    "secound_num = float(input (\"Enter the secound Number addittion\"))\n",
    "print(\"Sum\" , first_num + secound_num)"
   ]
  },
  {
   "cell_type": "code",
   "execution_count": 10,
   "id": "f6a2ddb7-9306-477f-9b6b-8f6e952391c2",
   "metadata": {},
   "outputs": [
    {
     "name": "stdin",
     "output_type": "stream",
     "text": [
      "Enter the first number for divition 10\n",
      "Enter the secound Number divition 5\n"
     ]
    },
    {
     "name": "stdout",
     "output_type": "stream",
     "text": [
      "Divistion 2.0\n"
     ]
    }
   ],
   "source": [
    "first_num = float(input(\"Enter the first number for divition\"))\n",
    "secound_num = float(input (\"Enter the secound Number divition\"))\n",
    "print(\"Divistion\" , first_num / secound_num)"
   ]
  },
  {
   "cell_type": "code",
   "execution_count": null,
   "id": "c4324014-e644-4a89-8a81-a6f67420f70a",
   "metadata": {},
   "outputs": [],
   "source": [
    "Secound Question"
   ]
  },
  {
   "cell_type": "code",
   "execution_count": 9,
   "id": "b19e08f8-8bd6-44aa-9aa9-42bca89b153d",
   "metadata": {},
   "outputs": [
    {
     "name": "stdin",
     "output_type": "stream",
     "text": [
      "Enter thr length of ht base of the triangle 10\n",
      "Enter the Height of the triangle 15\n"
     ]
    },
    {
     "name": "stdout",
     "output_type": "stream",
     "text": [
      "the area of the triangle 75.0\n"
     ]
    }
   ],
   "source": [
    "base = int(input(\"Enter thr length of ht base of the triangle\"))\n",
    "hight = int(input(\"Enter the Height of the triangle\"))\n",
    "print(\"the area of the triangle\" , (base * hight / 2))"
   ]
  },
  {
   "cell_type": "code",
   "execution_count": null,
   "id": "aeae1633-e7ef-495b-8609-d1dfb636662b",
   "metadata": {},
   "outputs": [],
   "source": [
    "Third Question"
   ]
  },
  {
   "cell_type": "code",
   "execution_count": 5,
   "id": "26b1a479-df5a-4a53-b48b-cf7c4042eb30",
   "metadata": {},
   "outputs": [
    {
     "name": "stdin",
     "output_type": "stream",
     "text": [
      "Enter the Temp Celsius 37\n"
     ]
    },
    {
     "name": "stdout",
     "output_type": "stream",
     "text": [
      "37.0 degrees Celsius is Equal to  98.60000000000001\n"
     ]
    }
   ],
   "source": [
    "temp = float(input(\"Enter the Temp Celsius\"))\n",
    "ans = (9/5 * temp ) + 32\n",
    "print(temp , \"degrees Celsius is Equal to \", ans )"
   ]
  },
  {
   "cell_type": "code",
   "execution_count": 3,
   "id": "aa3d0bc3-20f7-4d23-9f79-7542a6c5967e",
   "metadata": {},
   "outputs": [
    {
     "name": "stdin",
     "output_type": "stream",
     "text": [
      " 2\n"
     ]
    },
    {
     "name": "stdout",
     "output_type": "stream",
     "text": [
      "Date type is <class 'int'>\n"
     ]
    },
    {
     "name": "stdin",
     "output_type": "stream",
     "text": [
      " 3.0\n"
     ]
    },
    {
     "name": "stdout",
     "output_type": "stream",
     "text": [
      "Date type is <class 'float'>\n"
     ]
    },
    {
     "name": "stdin",
     "output_type": "stream",
     "text": [
      " Farhan Nawaz\n"
     ]
    },
    {
     "name": "stdout",
     "output_type": "stream",
     "text": [
      "Date type is <class 'str'>\n"
     ]
    },
    {
     "name": "stdin",
     "output_type": "stream",
     "text": [
      " true\n"
     ]
    },
    {
     "name": "stdout",
     "output_type": "stream",
     "text": [
      "Date type is <class 'bool'>\n"
     ]
    }
   ],
   "source": [
    "first_num = int(input())\n",
    "print (\"Date type is\" , type(first_num))\n",
    "sec_num = float(input())\n",
    "print (\"Date type is\" , type(sec_num))\n",
    "third_num = str(input())\n",
    "print (\"Date type is\" , type(third_num))\n",
    "fourth_num = bool(input())\n",
    "print (\"Date type is\" , type(fourth_num))"
   ]
  }
 ],
 "metadata": {
  "kernelspec": {
   "display_name": "Python 3 (ipykernel)",
   "language": "python",
   "name": "python3"
  },
  "language_info": {
   "codemirror_mode": {
    "name": "ipython",
    "version": 3
   },
   "file_extension": ".py",
   "mimetype": "text/x-python",
   "name": "python",
   "nbconvert_exporter": "python",
   "pygments_lexer": "ipython3",
   "version": "3.10.10"
  }
 },
 "nbformat": 4,
 "nbformat_minor": 5
}
